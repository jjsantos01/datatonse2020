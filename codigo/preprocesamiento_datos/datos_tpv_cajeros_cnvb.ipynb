{
 "cells": [
  {
   "cell_type": "code",
   "execution_count": 1,
   "metadata": {},
   "outputs": [],
   "source": [
    "import os\n",
    "\n",
    "import requests\n",
    "import pandas as pd\n",
    "idx = pd.IndexSlice\n",
    "datos_cnbv = 'D:/datos/CNBV/operativos'"
   ]
  },
  {
   "cell_type": "markdown",
   "metadata": {
    "heading_collapsed": true
   },
   "source": [
    "# Descarga datos"
   ]
  },
  {
   "cell_type": "code",
   "execution_count": 47,
   "metadata": {
    "hidden": true
   },
   "outputs": [
    {
     "name": "stdout",
     "output_type": "stream",
     "text": [
      "problema con 202010\n",
      "problema con 202011\n",
      "problema con 202012\n"
     ]
    }
   ],
   "source": [
    "# Descarga\n",
    "for y in [2019, 2020]:\n",
    "    for m in range(1, 13):\n",
    "        periodo = f'{y}{m:02}'\n",
    "        bm_file = f'{datos_cnbv}/BM_Operativa_{periodo}.xlsx'\n",
    "        if not os.path.exists(bm_file):\n",
    "            url = f'https://portafolioinfo.cnbv.gob.mx/PortafolioInformacion/BM_Operativa_{periodo}.xlsx'\n",
    "            header = {}\n",
    "            resp = requests.get(url, stream=True)\n",
    "            if resp.status_code == 200:\n",
    "                with open(bm_file, 'wb') as excelfile:\n",
    "                    excelfile.write(resp.content)\n",
    "            else:\n",
    "                print('problema con', periodo)"
   ]
  },
  {
   "cell_type": "code",
   "execution_count": 50,
   "metadata": {
    "hidden": true
   },
   "outputs": [
    {
     "name": "stdout",
     "output_type": "stream",
     "text": [
      "problema con 202010\n",
      "problema con 202011\n",
      "problema con 202012\n"
     ]
    }
   ],
   "source": [
    "transacciones = ['Número de Transacciones en TPV', 'Número de Transacciones en Cajeros Automáticos']\n",
    "for y in [2019, 2020]:\n",
    "    for m in range(1, 13):\n",
    "        periodo = f'{y}{m:02}'\n",
    "        bm_file = f'{datos_cnbv}/BM_Operativa_{periodo}.xlsx'\n",
    "        trans_file = f'datos/transacciones_cnbv_{periodo}.csv'\n",
    "        if os.path.exists(bm_file) & (not os.path.exists(trans_file)):\n",
    "            periodo = f'{y}{m:02}'\n",
    "            cnbv = pd.read_excel(f'{datos_cnbv}/BM_Operativa_{periodo}.xlsx', sheet_name='Hoja1')\n",
    "            cnbv_trans = cnbv.query('dl_producto_financiero==@transacciones & cve_inegi.notnull()==True', engine='python').copy()\n",
    "            cnbv_trans['cve_mun'] = cnbv_trans.cve_inegi.astype(str).str[3:8].astype(int)\n",
    "            cnbv_trans['cve_ent'] = cnbv_trans.cve_inegi.astype(str).str[3:5].astype(int)\n",
    "            cnbv_trans_group = cnbv_trans.groupby(['cve_periodo', 'cve_ent', 'cve_mun', 'dl_producto_financiero'], as_index=False)['dat_num_total'].sum()\n",
    "            cnbv_trans_group.to_csv(trans_file, index=False)\n",
    "        else:\n",
    "            print('problema con', periodo)"
   ]
  },
  {
   "cell_type": "markdown",
   "metadata": {
    "hidden": true
   },
   "source": [
    "## Conforma base única"
   ]
  },
  {
   "cell_type": "code",
   "execution_count": 55,
   "metadata": {
    "hidden": true
   },
   "outputs": [],
   "source": [
    "df_trans = pd.concat([pd.read_csv(f'datos/transacciones_cnbv_2020{m:02}.csv').assign(year=2020, mes=m) for m in range(1, 9)])\n",
    "df_trans.to_csv('transacciones_cnbv_2020.csv', index=False)"
   ]
  },
  {
   "cell_type": "markdown",
   "metadata": {},
   "source": [
    "# Crecimiento"
   ]
  },
  {
   "cell_type": "code",
   "execution_count": 3,
   "metadata": {},
   "outputs": [
    {
     "data": {
      "text/html": [
       "<div>\n",
       "<style scoped>\n",
       "    .dataframe tbody tr th:only-of-type {\n",
       "        vertical-align: middle;\n",
       "    }\n",
       "\n",
       "    .dataframe tbody tr th {\n",
       "        vertical-align: top;\n",
       "    }\n",
       "\n",
       "    .dataframe thead th {\n",
       "        text-align: right;\n",
       "    }\n",
       "</style>\n",
       "<table border=\"1\" class=\"dataframe\">\n",
       "  <thead>\n",
       "    <tr style=\"text-align: right;\">\n",
       "      <th></th>\n",
       "      <th></th>\n",
       "      <th>dl_producto_financiero</th>\n",
       "      <th>numero_de_transacciones_en_cajeros_automaticos</th>\n",
       "      <th>numero_de_transacciones_en_tpv</th>\n",
       "    </tr>\n",
       "    <tr>\n",
       "      <th>cve_ent</th>\n",
       "      <th>cve_mun</th>\n",
       "      <th>mes</th>\n",
       "      <th></th>\n",
       "      <th></th>\n",
       "    </tr>\n",
       "  </thead>\n",
       "  <tbody>\n",
       "    <tr>\n",
       "      <th rowspan=\"5\" valign=\"top\">1</th>\n",
       "      <th rowspan=\"5\" valign=\"top\">1001</th>\n",
       "      <th>2</th>\n",
       "      <td>-14.653296</td>\n",
       "      <td>-2.778147</td>\n",
       "    </tr>\n",
       "    <tr>\n",
       "      <th>3</th>\n",
       "      <td>-17.019599</td>\n",
       "      <td>-5.171215</td>\n",
       "    </tr>\n",
       "    <tr>\n",
       "      <th>4</th>\n",
       "      <td>-35.145484</td>\n",
       "      <td>-27.769826</td>\n",
       "    </tr>\n",
       "    <tr>\n",
       "      <th>5</th>\n",
       "      <td>-27.079090</td>\n",
       "      <td>-24.810371</td>\n",
       "    </tr>\n",
       "    <tr>\n",
       "      <th>6</th>\n",
       "      <td>-27.947189</td>\n",
       "      <td>-12.945142</td>\n",
       "    </tr>\n",
       "  </tbody>\n",
       "</table>\n",
       "</div>"
      ],
      "text/plain": [
       "dl_producto_financiero  numero_de_transacciones_en_cajeros_automaticos  \\\n",
       "cve_ent cve_mun mes                                                      \n",
       "1       1001    2                                           -14.653296   \n",
       "                3                                           -17.019599   \n",
       "                4                                           -35.145484   \n",
       "                5                                           -27.079090   \n",
       "                6                                           -27.947189   \n",
       "\n",
       "dl_producto_financiero  numero_de_transacciones_en_tpv  \n",
       "cve_ent cve_mun mes                                     \n",
       "1       1001    2                            -2.778147  \n",
       "                3                            -5.171215  \n",
       "                4                           -27.769826  \n",
       "                5                           -24.810371  \n",
       "                6                           -12.945142  "
      ]
     },
     "execution_count": 3,
     "metadata": {},
     "output_type": "execute_result"
    }
   ],
   "source": [
    "df_trans = pd.read_csv('datos/transacciones_cnbv_2020.csv')\n",
    "df_trans['crec_acum'] = df_trans.groupby(['year', 'cve_ent', 'cve_mun', 'dl_producto_financiero'])['dat_num_total'].transform(lambda s: s.pct_change().add(1).cumprod().subtract(1).mul(100))\n",
    "df_trans.set_index(['cve_ent', 'cve_mun', 'mes', 'dl_producto_financiero'], inplace=True)\n",
    "df_trans.sort_index(inplace=True)\n",
    "df_trans_crec_acum = df_trans['crec_acum'].unstack('dl_producto_financiero').dropna()\\\n",
    "    .rename(columns=lambda x: x.lower().replace(' ', '_').replace('ú', 'u').replace('á', 'a'))\n",
    "df_trans_crec_acum.to_csv('datos/crecimiento_acumulado_transacciones_cnbv_202008.csv', encoding='utf8')\n",
    "df_trans_crec_acum.head()"
   ]
  },
  {
   "cell_type": "code",
   "execution_count": null,
   "metadata": {},
   "outputs": [],
   "source": []
  },
  {
   "cell_type": "code",
   "execution_count": null,
   "metadata": {},
   "outputs": [],
   "source": []
  },
  {
   "cell_type": "code",
   "execution_count": null,
   "metadata": {},
   "outputs": [],
   "source": []
  },
  {
   "cell_type": "code",
   "execution_count": 89,
   "metadata": {},
   "outputs": [],
   "source": []
  },
  {
   "cell_type": "code",
   "execution_count": null,
   "metadata": {},
   "outputs": [],
   "source": []
  },
  {
   "cell_type": "code",
   "execution_count": null,
   "metadata": {},
   "outputs": [],
   "source": []
  },
  {
   "cell_type": "code",
   "execution_count": null,
   "metadata": {},
   "outputs": [],
   "source": []
  },
  {
   "cell_type": "code",
   "execution_count": null,
   "metadata": {},
   "outputs": [],
   "source": []
  }
 ],
 "metadata": {
  "hide_input": false,
  "kernelspec": {
   "display_name": "Python 3",
   "language": "python",
   "name": "python3"
  },
  "language_info": {
   "codemirror_mode": {
    "name": "ipython",
    "version": 3
   },
   "file_extension": ".py",
   "mimetype": "text/x-python",
   "name": "python",
   "nbconvert_exporter": "python",
   "pygments_lexer": "ipython3",
   "version": "3.6.10"
  },
  "toc": {
   "base_numbering": 1,
   "nav_menu": {},
   "number_sections": true,
   "sideBar": true,
   "skip_h1_title": false,
   "title_cell": "Table of Contents",
   "title_sidebar": "Contents",
   "toc_cell": false,
   "toc_position": {},
   "toc_section_display": true,
   "toc_window_display": false
  }
 },
 "nbformat": 4,
 "nbformat_minor": 2
}
