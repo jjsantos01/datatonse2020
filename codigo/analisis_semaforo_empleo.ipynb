{
 "cells": [
  {
   "cell_type": "code",
   "execution_count": 54,
   "metadata": {},
   "outputs": [],
   "source": [
    "import pandas as pd\n",
    "import seaborn as sns\n",
    "import matplotlib.pyplot as plt\n",
    "idx = pd.IndexSlice"
   ]
  },
  {
   "cell_type": "code",
   "execution_count": 160,
   "metadata": {},
   "outputs": [
    {
     "data": {
      "text/html": [
       "<div>\n",
       "<style scoped>\n",
       "    .dataframe tbody tr th:only-of-type {\n",
       "        vertical-align: middle;\n",
       "    }\n",
       "\n",
       "    .dataframe tbody tr th {\n",
       "        vertical-align: top;\n",
       "    }\n",
       "\n",
       "    .dataframe thead th {\n",
       "        text-align: right;\n",
       "    }\n",
       "</style>\n",
       "<table border=\"1\" class=\"dataframe\">\n",
       "  <thead>\n",
       "    <tr style=\"text-align: right;\">\n",
       "      <th></th>\n",
       "      <th></th>\n",
       "      <th>valor</th>\n",
       "      <th>cve</th>\n",
       "      <th>original</th>\n",
       "    </tr>\n",
       "    <tr>\n",
       "      <th>cve_mun</th>\n",
       "      <th>categoria</th>\n",
       "      <th></th>\n",
       "      <th></th>\n",
       "      <th></th>\n",
       "    </tr>\n",
       "  </thead>\n",
       "  <tbody>\n",
       "    <tr>\n",
       "      <th rowspan=\"5\" valign=\"top\">1001</th>\n",
       "      <th>sem_total</th>\n",
       "      <td>2.0</td>\n",
       "      <td>total</td>\n",
       "      <td>-4.031691</td>\n",
       "    </tr>\n",
       "    <tr>\n",
       "      <th>sem_mujeres</th>\n",
       "      <td>2.0</td>\n",
       "      <td>mujeres</td>\n",
       "      <td>-3.395323</td>\n",
       "    </tr>\n",
       "    <tr>\n",
       "      <th>sem_jovenes</th>\n",
       "      <td>1.0</td>\n",
       "      <td>jovenes</td>\n",
       "      <td>-10.075730</td>\n",
       "    </tr>\n",
       "    <tr>\n",
       "      <th>sem_mayores</th>\n",
       "      <td>2.0</td>\n",
       "      <td>mayores</td>\n",
       "      <td>-2.989917</td>\n",
       "    </tr>\n",
       "    <tr>\n",
       "      <th>sem_uma</th>\n",
       "      <td>2.0</td>\n",
       "      <td>uma</td>\n",
       "      <td>-3.972211</td>\n",
       "    </tr>\n",
       "  </tbody>\n",
       "</table>\n",
       "</div>"
      ],
      "text/plain": [
       "                     valor      cve   original\n",
       "cve_mun categoria                             \n",
       "1001    sem_total      2.0    total  -4.031691\n",
       "        sem_mujeres    2.0  mujeres  -3.395323\n",
       "        sem_jovenes    1.0  jovenes -10.075730\n",
       "        sem_mayores    2.0  mayores  -2.989917\n",
       "        sem_uma        2.0      uma  -3.972211"
      ]
     },
     "execution_count": 160,
     "metadata": {},
     "output_type": "execute_result"
    }
   ],
   "source": [
    "semaforo = pd.read_csv('g_semaforo_2.csv')\\\n",
    "    .drop_duplicates(subset=['cve_mun', 'categoria'])\\\n",
    "    .set_index(['cve_mun', 'categoria'])\n",
    "# datos para mapa\n",
    "#semaforo.query('categoria==\"moda\"')[['valor']].droplevel('categoria').to_csv('semaforo_mapa.csv')\n",
    "semaforo.head()"
   ]
  },
  {
   "cell_type": "code",
   "execution_count": 152,
   "metadata": {},
   "outputs": [
    {
     "data": {
      "text/html": [
       "<div>\n",
       "<style scoped>\n",
       "    .dataframe tbody tr th:only-of-type {\n",
       "        vertical-align: middle;\n",
       "    }\n",
       "\n",
       "    .dataframe tbody tr th {\n",
       "        vertical-align: top;\n",
       "    }\n",
       "\n",
       "    .dataframe thead th {\n",
       "        text-align: right;\n",
       "    }\n",
       "</style>\n",
       "<table border=\"1\" class=\"dataframe\">\n",
       "  <thead>\n",
       "    <tr style=\"text-align: right;\">\n",
       "      <th>categoria</th>\n",
       "      <th>moda</th>\n",
       "      <th>sem_jovenes</th>\n",
       "      <th>sem_mayores</th>\n",
       "      <th>sem_mujeres</th>\n",
       "      <th>sem_pyme</th>\n",
       "      <th>sem_total</th>\n",
       "      <th>sem_uma</th>\n",
       "    </tr>\n",
       "    <tr>\n",
       "      <th>cve_mun</th>\n",
       "      <th></th>\n",
       "      <th></th>\n",
       "      <th></th>\n",
       "      <th></th>\n",
       "      <th></th>\n",
       "      <th></th>\n",
       "      <th></th>\n",
       "    </tr>\n",
       "  </thead>\n",
       "  <tbody>\n",
       "    <tr>\n",
       "      <th>1001</th>\n",
       "      <td>NaN</td>\n",
       "      <td>-10.075730</td>\n",
       "      <td>-2.989917</td>\n",
       "      <td>-3.395323</td>\n",
       "      <td>-0.618419</td>\n",
       "      <td>-4.031691</td>\n",
       "      <td>-3.972211</td>\n",
       "    </tr>\n",
       "    <tr>\n",
       "      <th>1002</th>\n",
       "      <td>NaN</td>\n",
       "      <td>9.375000</td>\n",
       "      <td>7.653061</td>\n",
       "      <td>6.792453</td>\n",
       "      <td>8.742004</td>\n",
       "      <td>0.713649</td>\n",
       "      <td>5.263158</td>\n",
       "    </tr>\n",
       "    <tr>\n",
       "      <th>1003</th>\n",
       "      <td>NaN</td>\n",
       "      <td>-5.746141</td>\n",
       "      <td>3.908046</td>\n",
       "      <td>2.847806</td>\n",
       "      <td>-5.720824</td>\n",
       "      <td>-2.774032</td>\n",
       "      <td>-2.959566</td>\n",
       "    </tr>\n",
       "    <tr>\n",
       "      <th>1004</th>\n",
       "      <td>NaN</td>\n",
       "      <td>-13.225806</td>\n",
       "      <td>4.794521</td>\n",
       "      <td>3.936039</td>\n",
       "      <td>-14.545455</td>\n",
       "      <td>-2.111801</td>\n",
       "      <td>-1.955671</td>\n",
       "    </tr>\n",
       "    <tr>\n",
       "      <th>1006</th>\n",
       "      <td>NaN</td>\n",
       "      <td>4.600484</td>\n",
       "      <td>2.666667</td>\n",
       "      <td>4.653802</td>\n",
       "      <td>7.493703</td>\n",
       "      <td>2.482495</td>\n",
       "      <td>4.388610</td>\n",
       "    </tr>\n",
       "  </tbody>\n",
       "</table>\n",
       "</div>"
      ],
      "text/plain": [
       "categoria  moda  sem_jovenes  sem_mayores  sem_mujeres   sem_pyme  sem_total  \\\n",
       "cve_mun                                                                        \n",
       "1001        NaN   -10.075730    -2.989917    -3.395323  -0.618419  -4.031691   \n",
       "1002        NaN     9.375000     7.653061     6.792453   8.742004   0.713649   \n",
       "1003        NaN    -5.746141     3.908046     2.847806  -5.720824  -2.774032   \n",
       "1004        NaN   -13.225806     4.794521     3.936039 -14.545455  -2.111801   \n",
       "1006        NaN     4.600484     2.666667     4.653802   7.493703   2.482495   \n",
       "\n",
       "categoria   sem_uma  \n",
       "cve_mun              \n",
       "1001      -3.972211  \n",
       "1002       5.263158  \n",
       "1003      -2.959566  \n",
       "1004      -1.955671  \n",
       "1006       4.388610  "
      ]
     },
     "execution_count": 152,
     "metadata": {},
     "output_type": "execute_result"
    }
   ],
   "source": [
    "crecimiento_wide = semaforo['original'].unstack('categoria')\n",
    "crecimiento_wide.head()"
   ]
  },
  {
   "cell_type": "code",
   "execution_count": 141,
   "metadata": {},
   "outputs": [
    {
     "data": {
      "text/plain": [
       "categoria\n",
       "moda           0.000000\n",
       "sem_jovenes    0.499497\n",
       "sem_mayores    0.401408\n",
       "sem_mujeres    0.433099\n",
       "sem_pyme       0.464789\n",
       "sem_total      0.496982\n",
       "sem_uma        0.478873\n",
       "dtype: float64"
      ]
     },
     "execution_count": 141,
     "metadata": {},
     "output_type": "execute_result"
    }
   ],
   "source": [
    "# Municipios que tienen menos empleados que a inicio de la pandemia\n",
    "crecimiento_wide.lt(0).mean()"
   ]
  },
  {
   "cell_type": "markdown",
   "metadata": {},
   "source": [
    "## Número de empleos totales que faltan para recuperarse"
   ]
  },
  {
   "cell_type": "code",
   "execution_count": 136,
   "metadata": {},
   "outputs": [
    {
     "data": {
      "text/plain": [
       "-1092974.0"
      ]
     },
     "execution_count": 136,
     "metadata": {},
     "output_type": "execute_result"
    }
   ],
   "source": [
    "municipios_empleos_totales = crecimiento_wide.query('sem_total<0').index.tolist()\n",
    "pd.read_csv('imss/datos/semaforo/asegurados_total_202008.csv')\\\n",
    "    .query('cve_mun==@municipios_empleos_totales & year==2020 & mes==[2, 8]')\\\n",
    "    .groupby(['cve_mun', 'mes'])[['asegurados']].sum()\\\n",
    "    .groupby('cve_mun').diff()['asegurados'].sum()"
   ]
  },
  {
   "cell_type": "markdown",
   "metadata": {},
   "source": [
    "## Número de empleos de mujeres que faltan para recuperarse "
   ]
  },
  {
   "cell_type": "code",
   "execution_count": 145,
   "metadata": {},
   "outputs": [
    {
     "data": {
      "text/plain": [
       "-389834.0"
      ]
     },
     "execution_count": 145,
     "metadata": {},
     "output_type": "execute_result"
    }
   ],
   "source": [
    "municipios_empleos_mujeres = crecimiento_wide.query('sem_mujeres<0').index.tolist()\n",
    "pd.read_csv('imss/datos/semaforo/asegurados_x_sexo_202008.csv')\\\n",
    "    .query('sexo==\"Mujeres\" & cve_mun==@municipios_empleos_mujeres & year==2020 & mes==[2, 8]')\\\n",
    "    .groupby(['cve_mun', 'mes'])[['asegurados']].sum()\\\n",
    "    .groupby('cve_mun').diff()['asegurados'].sum()"
   ]
  },
  {
   "cell_type": "markdown",
   "metadata": {},
   "source": [
    "## Número de empleos de jóvenes que faltan para recuperarse "
   ]
  },
  {
   "cell_type": "code",
   "execution_count": 148,
   "metadata": {},
   "outputs": [
    {
     "data": {
      "text/plain": [
       "-359249.0"
      ]
     },
     "execution_count": 148,
     "metadata": {},
     "output_type": "execute_result"
    }
   ],
   "source": [
    "municipios_empleos_jovenes = crecimiento_wide.query('sem_jovenes<0').index.tolist()\n",
    "pd.read_csv('imss/datos/semaforo/asegurados_x_edad_202008.csv')\\\n",
    "    .query('categoria_edad==\"Jóvenes\" & cve_mun==@municipios_empleos_jovenes & year==2020 & mes==[2, 8]')\\\n",
    "    .groupby(['cve_mun', 'mes'])[['asegurados']].sum()\\\n",
    "    .groupby('cve_mun').diff()['asegurados'].sum()"
   ]
  },
  {
   "cell_type": "markdown",
   "metadata": {},
   "source": [
    "## Número de empleos de adultos mayores que faltan para recuperarse "
   ]
  },
  {
   "cell_type": "code",
   "execution_count": 151,
   "metadata": {},
   "outputs": [
    {
     "data": {
      "text/plain": [
       "-78925.0"
      ]
     },
     "execution_count": 151,
     "metadata": {},
     "output_type": "execute_result"
    }
   ],
   "source": [
    "municipios_empleos_mayores = crecimiento_wide.query('sem_mayores<0').index.tolist()\n",
    "pd.read_csv('imss/datos/semaforo/asegurados_x_edad_202008.csv')\\\n",
    "    .query('categoria_edad==\"Mayores\" & cve_mun==@municipios_empleos_mayores & year==2020 & mes==[2, 8]')\\\n",
    "    .groupby(['cve_mun', 'mes'])[['asegurados']].sum()\\\n",
    "    .groupby('cve_mun').diff()['asegurados'].sum()"
   ]
  },
  {
   "cell_type": "markdown",
   "metadata": {},
   "source": [
    "## Número de empleos en pequeñas empresas que faltan para recuperarse "
   ]
  },
  {
   "cell_type": "code",
   "execution_count": 154,
   "metadata": {},
   "outputs": [
    {
     "data": {
      "text/plain": [
       "-358557.0"
      ]
     },
     "execution_count": 154,
     "metadata": {},
     "output_type": "execute_result"
    }
   ],
   "source": [
    "municipios_empleos_pyme = crecimiento_wide.query('sem_pyme<0').index.tolist()\n",
    "pd.read_csv('imss/datos/semaforo/asegurados_x_edad_202008.csv')\\\n",
    "    .query('cve_mun==@municipios_empleos_pyme & year==2020 & mes==[2, 8]')\\\n",
    "    .groupby(['cve_mun', 'mes'])[['asegurados']].sum()\\\n",
    "    .groupby('cve_mun').diff()['asegurados'].sum()"
   ]
  },
  {
   "cell_type": "markdown",
   "metadata": {},
   "source": [
    "## Número de empleos de bajos ingresos que faltan para recuperarse "
   ]
  },
  {
   "cell_type": "code",
   "execution_count": 156,
   "metadata": {},
   "outputs": [
    {
     "data": {
      "text/plain": [
       "-803102.0"
      ]
     },
     "execution_count": 156,
     "metadata": {},
     "output_type": "execute_result"
    }
   ],
   "source": [
    "municipios_empleos_pyme = crecimiento_wide.query('sem_pyme<0').index.tolist()\n",
    "pd.read_csv('imss/datos/semaforo/asegurados_uma50_202008.csv')\\\n",
    "    .query('cve_mun==@municipios_empleos_pyme & year==2020 & mes==[2, 8]')\\\n",
    "    .groupby(['cve_mun', 'mes'])[['asegurados']].sum()\\\n",
    "    .groupby('cve_mun').diff()['asegurados'].sum()"
   ]
  },
  {
   "cell_type": "markdown",
   "metadata": {},
   "source": [
    "## Semaforo por municipio"
   ]
  },
  {
   "cell_type": "code",
   "execution_count": 161,
   "metadata": {},
   "outputs": [
    {
     "data": {
      "text/html": [
       "<div>\n",
       "<style scoped>\n",
       "    .dataframe tbody tr th:only-of-type {\n",
       "        vertical-align: middle;\n",
       "    }\n",
       "\n",
       "    .dataframe tbody tr th {\n",
       "        vertical-align: top;\n",
       "    }\n",
       "\n",
       "    .dataframe thead th {\n",
       "        text-align: right;\n",
       "    }\n",
       "</style>\n",
       "<table border=\"1\" class=\"dataframe\">\n",
       "  <thead>\n",
       "    <tr style=\"text-align: right;\">\n",
       "      <th>valor</th>\n",
       "      <th>Rojo</th>\n",
       "      <th>Amarillo</th>\n",
       "      <th>Verde</th>\n",
       "    </tr>\n",
       "    <tr>\n",
       "      <th>categoria</th>\n",
       "      <th></th>\n",
       "      <th></th>\n",
       "      <th></th>\n",
       "    </tr>\n",
       "  </thead>\n",
       "  <tbody>\n",
       "    <tr>\n",
       "      <th>moda</th>\n",
       "      <td>464</td>\n",
       "      <td>683</td>\n",
       "      <td>787</td>\n",
       "    </tr>\n",
       "    <tr>\n",
       "      <th>sem_jovenes</th>\n",
       "      <td>697</td>\n",
       "      <td>456</td>\n",
       "      <td>555</td>\n",
       "    </tr>\n",
       "    <tr>\n",
       "      <th>sem_mayores</th>\n",
       "      <td>366</td>\n",
       "      <td>677</td>\n",
       "      <td>686</td>\n",
       "    </tr>\n",
       "    <tr>\n",
       "      <th>sem_mujeres</th>\n",
       "      <td>348</td>\n",
       "      <td>747</td>\n",
       "      <td>707</td>\n",
       "    </tr>\n",
       "    <tr>\n",
       "      <th>sem_pyme</th>\n",
       "      <td>370</td>\n",
       "      <td>686</td>\n",
       "      <td>870</td>\n",
       "    </tr>\n",
       "    <tr>\n",
       "      <th>sem_total</th>\n",
       "      <td>415</td>\n",
       "      <td>689</td>\n",
       "      <td>827</td>\n",
       "    </tr>\n",
       "    <tr>\n",
       "      <th>sem_uma</th>\n",
       "      <td>441</td>\n",
       "      <td>637</td>\n",
       "      <td>849</td>\n",
       "    </tr>\n",
       "  </tbody>\n",
       "</table>\n",
       "</div>"
      ],
      "text/plain": [
       "valor        Rojo  Amarillo  Verde\n",
       "categoria                         \n",
       "moda          464       683    787\n",
       "sem_jovenes   697       456    555\n",
       "sem_mayores   366       677    686\n",
       "sem_mujeres   348       747    707\n",
       "sem_pyme      370       686    870\n",
       "sem_total     415       689    827\n",
       "sem_uma       441       637    849"
      ]
     },
     "execution_count": 161,
     "metadata": {},
     "output_type": "execute_result"
    }
   ],
   "source": [
    "colores_semaforo = {1: 'Rojo', 2: 'Amarillo', 3: 'Verde'}\n",
    "semaforo.groupby('categoria')['valor'].value_counts().unstack('valor').rename(columns=colores_semaforo)"
   ]
  }
 ],
 "metadata": {
  "hide_input": false,
  "kernelspec": {
   "display_name": "Python 3",
   "language": "python",
   "name": "python3"
  },
  "language_info": {
   "codemirror_mode": {
    "name": "ipython",
    "version": 3
   },
   "file_extension": ".py",
   "mimetype": "text/x-python",
   "name": "python",
   "nbconvert_exporter": "python",
   "pygments_lexer": "ipython3",
   "version": "3.6.10"
  },
  "toc": {
   "base_numbering": 1,
   "nav_menu": {},
   "number_sections": true,
   "sideBar": true,
   "skip_h1_title": false,
   "title_cell": "Table of Contents",
   "title_sidebar": "Contents",
   "toc_cell": false,
   "toc_position": {},
   "toc_section_display": true,
   "toc_window_display": false
  }
 },
 "nbformat": 4,
 "nbformat_minor": 2
}
